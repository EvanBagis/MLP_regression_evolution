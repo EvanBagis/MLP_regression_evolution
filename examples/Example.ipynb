{
 "cells": [
  {
   "cell_type": "markdown",
   "metadata": {},
   "source": [
    "# Example of usage"
   ]
  },
  {
   "cell_type": "code",
   "execution_count": 25,
   "metadata": {},
   "outputs": [],
   "source": [
    "import pandas as pd\n",
    "import numpy as np\n",
    "from sklearn.datasets import load_breast_cancer\n",
    "from sklearn.preprocessing import MinMaxScaler\n",
    "from sklearn.model_selection import train_test_split\n",
    "\n",
    "from neuro_evolution import evolution"
   ]
  },
  {
   "cell_type": "markdown",
   "metadata": {},
   "source": [
    "# Load data"
   ]
  },
  {
   "cell_type": "code",
   "execution_count": 20,
   "metadata": {},
   "outputs": [],
   "source": [
    "data = load_breast_cancer()"
   ]
  },
  {
   "cell_type": "markdown",
   "metadata": {},
   "source": [
    "# Prepare data"
   ]
  },
  {
   "cell_type": "code",
   "execution_count": 22,
   "metadata": {},
   "outputs": [],
   "source": [
    "scaler = MinMaxScaler(feature_range=(0,1))\n",
    "X = scaler.fit_transform(data['data'])"
   ]
  },
  {
   "cell_type": "code",
   "execution_count": 27,
   "metadata": {},
   "outputs": [],
   "source": [
    "X_train, X_test, y_train, y_test = train_test_split(X, data['target'], test_size=0.33, random_state=42)"
   ]
  },
  {
   "cell_type": "markdown",
   "metadata": {},
   "source": [
    "# Define parameters"
   ]
  },
  {
   "cell_type": "code",
   "execution_count": 7,
   "metadata": {},
   "outputs": [],
   "source": [
    "params = {\n",
    "    \"epochs\": [10, 20, 35],\n",
    "    \"batch_size\": [10, 20, 40],\n",
    "    \"n_layers\": [1, 2, 3, 4],\n",
    "    \"n_neurons\": [20, 40, 60],\n",
    "    \"dropout\": [0.1, 0.2, 0.5],\n",
    "    \"optimizers\": [\"nadam\", \"adam\"],\n",
    "    \"activations\": [\"relu\", \"sigmoid\"],\n",
    "    \"last_layer_activations\": [\"sigmoid\"],\n",
    "    \"losses\": [\"binary_crossentropy\"],\n",
    "    \"metrics\": [\"accuracy\"]\n",
    "}"
   ]
  },
  {
   "cell_type": "code",
   "execution_count": 28,
   "metadata": {},
   "outputs": [
    {
     "name": "stderr",
     "output_type": "stream",
     "text": [
      "  0%|          | 0/20 [00:00<?, ?it/s]"
     ]
    },
    {
     "name": "stdout",
     "output_type": "stream",
     "text": [
      "[16/May/2019 13:39:46] WARNING - From /anaconda3/lib/python3.7/site-packages/tensorflow/python/framework/op_def_library.py:263: colocate_with (from tensorflow.python.framework.ops) is deprecated and will be removed in a future version.\n",
      "Instructions for updating:\n",
      "Colocations handled automatically by placer.\n",
      "[16/May/2019 13:39:46] WARNING - From /anaconda3/lib/python3.7/site-packages/keras/backend/tensorflow_backend.py:3445: calling dropout (from tensorflow.python.ops.nn_ops) with keep_prob is deprecated and will be removed in a future version.\n",
      "Instructions for updating:\n",
      "Please use `rate` instead of `keep_prob`. Rate should be set to `rate = 1 - keep_prob`.\n",
      "[16/May/2019 13:39:47] WARNING - From /anaconda3/lib/python3.7/site-packages/tensorflow/python/ops/math_ops.py:3066: to_int32 (from tensorflow.python.ops.math_ops) is deprecated and will be removed in a future version.\n",
      "Instructions for updating:\n",
      "Use tf.cast instead.\n"
     ]
    },
    {
     "name": "stderr",
     "output_type": "stream",
     "text": [
      "100%|██████████| 20/20 [01:20<00:00,  4.02s/it]\n",
      "100%|██████████| 20/20 [02:49<00:00,  9.22s/it]\n",
      "100%|██████████| 20/20 [02:38<00:00,  7.43s/it]\n",
      "100%|██████████| 20/20 [03:01<00:00,  9.00s/it]\n",
      "100%|██████████| 20/20 [04:28<00:00, 17.77s/it]\n",
      "100%|██████████| 20/20 [05:23<00:00, 14.04s/it]\n",
      "100%|██████████| 20/20 [05:28<00:00, 18.94s/it]\n",
      "100%|██████████| 20/20 [06:26<00:00, 22.88s/it]\n",
      "100%|██████████| 20/20 [07:26<00:00, 20.27s/it]"
     ]
    },
    {
     "name": "stdout",
     "output_type": "stream",
     "text": [
      "[16/May/2019 14:18:48] INFO - best accuracy: 0.9840425557278573, best params: {'epochs': 35, 'batch_size': 10, 'n_layers': 2, 'n_neurons': 20, 'dropout': 0.2, 'optimizers': 'nadam', 'activations': 'sigmoid', 'last_layer_activations': 'sigmoid', 'losses': 'binary_crossentropy', 'metrics': 'accuracy'}\n"
     ]
    },
    {
     "name": "stderr",
     "output_type": "stream",
     "text": [
      "\n"
     ]
    }
   ],
   "source": [
    "n_evolution = evolution.NeuroEvolution(generations = 10, population = 20, params=params)\n",
    "\n",
    "n_evolution.evolve(X_train, y_train, X_test, y_test)"
   ]
  }
 ],
 "metadata": {
  "kernelspec": {
   "display_name": "Python 3",
   "language": "python",
   "name": "python3"
  },
  "language_info": {
   "codemirror_mode": {
    "name": "ipython",
    "version": 3
   },
   "file_extension": ".py",
   "mimetype": "text/x-python",
   "name": "python",
   "nbconvert_exporter": "python",
   "pygments_lexer": "ipython3",
   "version": "3.7.3"
  }
 },
 "nbformat": 4,
 "nbformat_minor": 2
}
